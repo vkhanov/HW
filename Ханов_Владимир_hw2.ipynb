{
  "nbformat": 4,
  "nbformat_minor": 0,
  "metadata": {
    "colab": {
      "provenance": []
    },
    "kernelspec": {
      "name": "python3",
      "display_name": "Python 3"
    },
    "language_info": {
      "name": "python"
    }
  },
  "cells": [
    {
      "cell_type": "markdown",
      "source": [
        "## 1. Подсчет количества дней\n",
        "\n",
        "Создай целочисленные переменные, которые отвечают за:\n",
        "- количество дней для проращивания семян\n",
        "- количество дней для выращивания рассады\n",
        "- количество дней до плодоношения\n",
        "\n",
        "Сложи все три переменные. Выведи на экран результат - число дней от момента начала проращивания семян до момента, когда созреют помидоры."
      ],
      "metadata": {
        "id": "xPCW0t6jIduY"
      }
    },
    {
      "cell_type": "code",
      "execution_count": null,
      "metadata": {
        "id": "O6sEcKdFIMZb",
        "colab": {
          "base_uri": "https://localhost:8080/"
        },
        "outputId": "5936e27e-11de-49f8-e34a-59d5df24c347"
      },
      "outputs": [
        {
          "output_type": "stream",
          "name": "stdout",
          "text": [
            "14\n"
          ]
        }
      ],
      "source": [
        "days_for_seed_germination = 3\n",
        "days_for_growing_seeds = 5\n",
        "days_before_fruiting = 6\n",
        "\n",
        "days_of_full_ripening = days_for_seed_germination + days_for_growing_seeds + days_before_fruiting\n",
        "print(days_of_full_ripening)"
      ]
    },
    {
      "cell_type": "markdown",
      "source": [
        "## 2. Сохранение данных о сорте.\n",
        "\n",
        "Продуктивность сорта считается по простой формуле - [количество кг, собранных со всех кустов] / [количество кустов]\n",
        "\n",
        "Считай с клавиатуры количество килограмм, собранных со всех кустов и количество кустов (целые числа). Подели и округли до 2 знаков после запятой, результат выведи на экран."
      ],
      "metadata": {
        "id": "ZmLLCikNIAdT"
      }
    },
    {
      "cell_type": "code",
      "execution_count": null,
      "metadata": {
        "id": "IWNzBK6AIouo",
        "colab": {
          "base_uri": "https://localhost:8080/"
        },
        "outputId": "8a6884cf-1035-458b-b986-61717bb1ea9c"
      },
      "outputs": [
        {
          "output_type": "stream",
          "name": "stdout",
          "text": [
            "Сколько киллограмм собрали? 23\n",
            "Сколько кустов? 7\n",
            "3.29\n"
          ]
        }
      ],
      "source": [
        "kilos = int(input('Сколько киллограмм собрали? '))\n",
        "bushes = int(input('Сколько кустов? '))\n",
        "\n",
        "productivity = round(kilos / bushes, 2)\n",
        "print(productivity)"
      ]
    },
    {
      "cell_type": "markdown",
      "source": [
        "## 3. Средняя сладость клубники.\n",
        "\n",
        "Ваша бабушка решила поспорить с соседкой, у кого клубника более сладкая. Они посадили кусты и потом оценили сладость клубники, собранной с каждого из кустов, по шкале от 0 до 10. Ваша задача - посчитать среднее для двух массивов и определить, у кого слаще клубника в среднем."
      ],
      "metadata": {
        "id": "O9dAr1NdJpyT"
      }
    },
    {
      "cell_type": "code",
      "execution_count": null,
      "metadata": {
        "id": "oy8HPWpiIpOv",
        "colab": {
          "base_uri": "https://localhost:8080/"
        },
        "outputId": "2f75328b-28f8-4ccf-c6f1-51a21f906aeb"
      },
      "outputs": [
        {
          "output_type": "stream",
          "name": "stdout",
          "text": [
            "У бабушки клубника слаще\n"
          ]
        }
      ],
      "source": [
        "grandma_strawberries = [5, 7, 10, 9, 3, 10]\n",
        "neighbour_strawberries = [10, 6, 2, 3]\n",
        "\n",
        "grandma_mean = sum(grandma_strawberries) / len(grandma_strawberries)\n",
        "neighbour_mean = sum(neighbour_strawberries) / len(neighbour_strawberries)\n",
        "\n",
        "if grandma_mean > neighbour_mean:\n",
        "  print('У бабушки клубника слаще')\n",
        "elif grandma_mean < neighbour_mean:\n",
        "  print('У соседки клубника слаще')\n",
        "else:\n",
        "  print('В среднем клубника одинаково сладкая')"
      ]
    },
    {
      "cell_type": "markdown",
      "source": [
        "## 4. Список растений на даче.\n",
        "\n",
        "У вас есть список растений на даче у бабушки. <font color=\"#8000FF\"> При помощи форматирования строк </font> выведите список растений **в алфавитном порядке** в виде:\n",
        "\n",
        "N. Название растения."
      ],
      "metadata": {
        "id": "EYjJBGLsRC4y"
      }
    },
    {
      "cell_type": "code",
      "execution_count": null,
      "metadata": {
        "id": "z2_PuewtIpWs",
        "colab": {
          "base_uri": "https://localhost:8080/"
        },
        "outputId": "aa7ca680-72e8-4956-fc75-3aa389f2ff9b"
      },
      "outputs": [
        {
          "output_type": "stream",
          "name": "stdout",
          "text": [
            "['картошка', 'клубника', 'мальва', 'огурцы', 'подсолнухи', 'томаты', 'флоксы', 'хосты']\n"
          ]
        }
      ],
      "source": [
        "plants = [\"мальва\", \"клубника\", \"томаты\", \"огурцы\", \"флоксы\", \"картошка\", \"подсолнухи\", \"хосты\"]\n",
        "\n",
        "print(sorted(plants))\n"
      ]
    },
    {
      "cell_type": "markdown",
      "source": [
        "## 5. Погода на улице.\n",
        "\n",
        "Сейчас весна, у вашей бабушки уже высажена рассада перцев в парник. Однако она боится заморозков. Ваша задача - считать с клавиатуры значение температуры:\n",
        "\n",
        "Если t<5, надо вывести \"Пожалуйста, закрой полностью парник - на улице холодно\";\n",
        "\n",
        "Если t от 5 до 10, надо вывести \"Пожалуйста, прикрой парник - на улице прохладно\";\n",
        "\n",
        "Если t больше 10, надо вывести \"Пожалуйста, открой полностью парник - на улице тепло\"."
      ],
      "metadata": {
        "id": "amXMFPIxKq7s"
      }
    },
    {
      "cell_type": "code",
      "execution_count": null,
      "metadata": {
        "id": "F9Xwk-ldIpeY",
        "colab": {
          "base_uri": "https://localhost:8080/"
        },
        "outputId": "dd5ed958-4af0-4980-d1ad-a50a105128c8"
      },
      "outputs": [
        {
          "output_type": "stream",
          "name": "stdout",
          "text": [
            "Введите значение температуры: 11\n",
            "Пожалуйста, открой полностью парник - на улице тепло\n"
          ]
        }
      ],
      "source": [
        "temperature = int(input('Введите значение температуры: '))\n",
        "\n",
        "if temperature < 5:\n",
        "  print('Пожалуйста, закрой полностью парник - на улице холодно')\n",
        "elif 5 <= temperature <= 10:\n",
        "  print('Пожалуйста, прикрой парник - на улице прохладно')\n",
        "else:\n",
        "  print('Пожалуйста, открой полностью парник - на улице тепло')"
      ]
    },
    {
      "cell_type": "markdown",
      "source": [
        "## 6. Список любимых томатов.\n",
        "\n",
        "У вашей бабушки есть любимые сорта томатов, но не все из них она посадила в этом году. У вас есть словарь, где ключ - название сорта, а по значению лежит количество кустов, высаженных в этом году.\n",
        "\n",
        "Ваша задача - вывести список сортов, которые были высажены в этом году (если высажено 0 кустов, то этот сорт в этом году не сажался)."
      ],
      "metadata": {
        "id": "AoT449EwIoN0"
      }
    },
    {
      "cell_type": "code",
      "execution_count": null,
      "metadata": {
        "id": "r61uXx7PIpkJ",
        "colab": {
          "base_uri": "https://localhost:8080/"
        },
        "outputId": "690c9975-b040-4e39-fb47-b6b864c744d0"
      },
      "outputs": [
        {
          "output_type": "stream",
          "name": "stdout",
          "text": [
            "['Бычье сердце', 'Любаша', 'Космонавт Волков', 'Монеточка']\n"
          ]
        }
      ],
      "source": [
        "tomatoes = {\"Бычье сердце\": 4, \"Любаша\": 1, \"Титаник\": 0, \"Космонавт Волков\": 7}\n",
        "tomatoes[\"Монеточка\"] = 5\n",
        "\n",
        "sorts_this_year = []\n",
        "\n",
        "for key, value in tomatoes.items():\n",
        "  if value != 0:\n",
        "    sorts_this_year.append(key)\n",
        "\n",
        "print(sorts_this_year)"
      ]
    },
    {
      "cell_type": "markdown",
      "source": [
        "## 7. Словари.\n",
        "\n",
        "Создайте словарь, где ключами будут числа от 0 до 20 включительно, а значения -\n",
        "1. -1, если значение ключа делится на 5\n",
        "2. 1 иначе\n",
        "\n",
        "\n",
        "<font color=\"#8000FF\"> Используйте comprehensions </font>"
      ],
      "metadata": {
        "id": "M7EBZSFGLiVy"
      }
    },
    {
      "cell_type": "code",
      "execution_count": null,
      "metadata": {
        "id": "2JxdQGZJIppV"
      },
      "outputs": [],
      "source": [
        "my_dict = {x: -1 if x % 5 == 0 else 1 for x in range(21)}\n",
        "\n",
        "my_dict"
      ]
    },
    {
      "cell_type": "markdown",
      "source": [],
      "metadata": {
        "id": "lPR3qArQHi8C"
      }
    },
    {
      "cell_type": "markdown",
      "source": [
        "## 8. Ох уж эти корейцы\n",
        "\n",
        "Вам дан список с возрастами людей в одной неизвестной корейской фирме. Вышел новый закон, который постановляет, что теперь возраст сотрудников считается не традиционным способом, а по факту рождения. Менеджер компании попросил вас перезаполнить базу данных, обновив возраст сотрудников по правилу:\n",
        "\n",
        "$age = (age + 1)$\n",
        "\n",
        " <font color=\"#8000FF\"> Используйте функцию `map`</font>"
      ],
      "metadata": {
        "id": "ZTrqV-ixUhcj"
      }
    },
    {
      "cell_type": "code",
      "source": [
        "import random\n",
        "ages = random.choices(list(range(20, 65)), k=100500)\n",
        "\n",
        "new_age = list(map(lambda x: x + 1, ages))\n",
        "\n",
        "print(ages[0], new_age[0])"
      ],
      "metadata": {
        "id": "60H4Zi4eMSQp"
      },
      "execution_count": null,
      "outputs": []
    },
    {
      "cell_type": "markdown",
      "source": [
        "## 9. Ох уж эти корейцы - 2.0\n",
        "\n",
        "Условие такое же, как и в задаче 8, но теперь вам предстоит решить такую же задачу с использованием <font color=\"#8000FF\"> `list comprehensions` </font>"
      ],
      "metadata": {
        "id": "0wcUgWpqMls_"
      }
    },
    {
      "cell_type": "code",
      "execution_count": null,
      "metadata": {
        "id": "FyrL43m7Iptt"
      },
      "outputs": [],
      "source": [
        "new_age = [x + 1 for x in ages]\n",
        "\n",
        "print(ages[0], new_age[0])"
      ]
    },
    {
      "cell_type": "markdown",
      "source": [
        "## 10. Много разных строк.\n",
        "\n",
        "Напишите функцию` get_extended_string_info`, принимающую на вход строку, а на выход выдаёт **7 строк через запятую**, полученные из оригинальной соответствующим преобразованием:\n",
        "\n",
        "1. Самое длинное слово в строке\n",
        "2. Количество слов в строке\n",
        "3. Переворачивает каждое слово в строке задом наперёд\n",
        "4. Удаляет все цифры из строки\n",
        "5. Заменяет все буквы верхнего регистра на нижний, а нижнего регистра на верхний\n",
        "6. Проверяет, является ли строка палиндромом (без учета пробелов, регистра и пунктуации, те только буквы и цифры)\n",
        "7. Если строка не является палиндромом, то выводит первые 5 символов строки в обратном порядке\n",
        "\n",
        "Т.е.  первая строка - самое длинное слово в исходной строке, вторая строка - количество слов в исходной строке и.т.д."
      ],
      "metadata": {
        "id": "0nk0f2oSM-dx"
      }
    },
    {
      "cell_type": "markdown",
      "source": [],
      "metadata": {
        "id": "dJmbTEC4JiPz"
      }
    },
    {
      "cell_type": "code",
      "execution_count": 24,
      "metadata": {
        "id": "qD-0OsRZIpw3",
        "colab": {
          "base_uri": "https://localhost:8080/"
        },
        "outputId": "58805703-9a73-4d21-cda4-3c486adbec45"
      },
      "outputs": [
        {
          "output_type": "execute_result",
          "data": {
            "text/plain": [
              "('кушать',\n",
              " 3,\n",
              " 'Я юлбюл ьташук',\n",
              " 'Я люблю кушать',\n",
              " 'я ЛЮБЛЮ КУШАТЬ',\n",
              " 'Строка не является палиндромом',\n",
              " 'бюл Я')"
            ]
          },
          "metadata": {},
          "execution_count": 24
        }
      ],
      "source": [
        "import re\n",
        "\n",
        "def get_extended_string_info(initial_string: str) -> (str, int, str, str, str, str, str):\n",
        "  words: list(str) = initial_string.split()\n",
        "\n",
        "  cleaned_words = [word.replace(\",\", \"\") for word in words]\n",
        "\n",
        "  longest_word: str = max(cleaned_words, key = len)\n",
        "\n",
        "  count: int = len(cleaned_words)\n",
        "\n",
        "  reversed_words: list(str) = [word[::-1] for word in cleaned_words]\n",
        "\n",
        "  no_figures_words: str = re.sub(r'\\d', '', initial_string)\n",
        "\n",
        "  change_registr: str = initial_string.swapcase()\n",
        "\n",
        "  super_cleaned_string: str = re.sub(r'[^\\w]', '', initial_string).lower()\n",
        "\n",
        "  if super_cleaned_string == super_cleaned_string[::-1]:\n",
        "    is_palindrome: str = 'Строка является палиндромом'\n",
        "    reversed_first_5: str = ''\n",
        "  else:\n",
        "    is_palindrome: str = 'Строка не является палиндромом'\n",
        "    reversed_first_5: str = initial_string[:5][::-1]\n",
        "\n",
        "  return (longest_word, count, ' '.join(reversed_words), no_figures_words, change_registr, is_palindrome, reversed_first_5)\n",
        "\n",
        "\n",
        "\n",
        "\n",
        "get_extended_string_info('Я люблю кушать')\n",
        "\n",
        "\n",
        "\n"
      ]
    },
    {
      "cell_type": "code",
      "source": [],
      "metadata": {
        "colab": {
          "base_uri": "https://localhost:8080/",
          "height": 36
        },
        "id": "x6tAnIebeQ1z",
        "outputId": "62638c84-b569-4eec-b1ea-c7fbdd5a90de"
      },
      "execution_count": null,
      "outputs": [
        {
          "output_type": "execute_result",
          "data": {
            "text/plain": [
              "'ялюблюкушать'"
            ],
            "application/vnd.google.colaboratory.intrinsic+json": {
              "type": "string"
            }
          },
          "metadata": {},
          "execution_count": 15
        }
      ]
    },
    {
      "cell_type": "markdown",
      "source": [
        "## 11. Турецкие сериалы.\n",
        "\n",
        "Из администрации школы вам поступили списки турецких студентов, сдававших экзамены по математике и физике в виде словаря \"имя\": tuple(оценка по физике, оценка по математике)\n",
        "\n",
        "Если оценка ниже трех - студент не сдал, если ниже четырех - не получает стипендию. Если хотябы один предмет не сдан, то это отчисление\n",
        "\n",
        "1. <font color=\"#8000FF\"> С помощью comprehensions </font> сформируйте списки студентов, кто сдал экзамены на проход/стипу. Подумайте, какие категории вам нужны\n",
        "\n",
        "2. Сформируйте списки на стипендию и на отчисление"
      ],
      "metadata": {
        "id": "DSlSqjt0N0-3"
      }
    },
    {
      "cell_type": "code",
      "source": [
        "exam_scores = {\n",
        "    \"Serkan Bolat\": (3, 4),\n",
        "    \"Burak Deniz\": (5, 3),\n",
        "    \"Ahmet Yildirim\": (2, 5),\n",
        "    \"Merve Kaya\": (4, 4),\n",
        "    \"Emre Demir\": (2, 2),\n",
        "    \"Zeynep Arslan\": (3, 3),\n",
        "    \"Mustafa Yilmaz\": (5, 4),\n",
        "    \"Elif Ozdemir\": (4, 3),\n",
        "    \"Canan Karaca\": (2, 4),\n",
        "    \"Yusuf Sahin\": (5, 5),\n",
        "    \"Selin Cengiz\": (3, 2),\n",
        "    \"Kerem Gunes\": (4, 5),\n",
        "    \"Duru Aydin\": (3, 4),\n",
        "    \"Omer Yilmaz\": (2, 3),\n",
        "    \"Esra Uysal\": (4, 4),\n",
        "    \"Halil Yalcin\": (3, 3),\n",
        "    \"Ayse Yildirim\": (5, 4),\n",
        "    \"Fatma Demir\": (2, 2),\n",
        "    \"Ali Gokce\": (4, 3),\n",
        "    \"Cemre Erdem\": (3, 5)\n",
        "}\n"
      ],
      "metadata": {
        "id": "1Zf73sEgOC43"
      },
      "execution_count": null,
      "outputs": []
    },
    {
      "cell_type": "code",
      "execution_count": null,
      "metadata": {
        "id": "faZRQH5pIpzu",
        "colab": {
          "base_uri": "https://localhost:8080/"
        },
        "outputId": "1a8f6dfd-e83d-4927-d746-571560a8f280"
      },
      "outputs": [
        {
          "output_type": "execute_result",
          "data": {
            "text/plain": [
              "['Ahmet Yildirim',\n",
              " 'Emre Demir',\n",
              " 'Canan Karaca',\n",
              " 'Selin Cengiz',\n",
              " 'Omer Yilmaz',\n",
              " 'Fatma Demir']"
            ]
          },
          "metadata": {},
          "execution_count": 30
        }
      ],
      "source": [
        "pass_exam = [key  for key, value in exam_scores.items() if value[0] >= 3 and value[1] >= 3]\n",
        "\n",
        "scholarship = [key  for key, value in exam_scores.items() if value[0] >= 4 and value[1] >= 4]\n",
        "\n",
        "expulsion = [key  for key, value in exam_scores.items() if value[0] < 3 or value[1] < 3]\n",
        "\n",
        "expulsion\n"
      ]
    },
    {
      "cell_type": "markdown",
      "source": [
        "## 12. Я у мамы разработчик.\n",
        "\n",
        "Возьмите функцию из задачи 10 и переиспользуйте её, чтобы получить количество слов в строке. Ненужные переменные запихните в `_` и `*_`"
      ],
      "metadata": {
        "id": "vfhNtLvpOLYn"
      }
    },
    {
      "cell_type": "code",
      "execution_count": null,
      "metadata": {
        "id": "simmTOFbIp2V",
        "colab": {
          "base_uri": "https://localhost:8080/"
        },
        "outputId": "107ef7e4-41d0-42a0-b43e-1a7ba86c2705"
      },
      "outputs": [
        {
          "output_type": "stream",
          "name": "stdout",
          "text": [
            "3\n"
          ]
        }
      ],
      "source": [
        "initial_string = 'Я люблю кушать'\n",
        "\n",
        "_, count_words, *_ = get_extended_string_info(initial_string)\n",
        "\n",
        "print(count_words)"
      ]
    },
    {
      "cell_type": "markdown",
      "source": [
        "## 13. Не перевелись ещё богатыри на Руси! - часть 1.\n",
        "\n",
        "Вам дана очень длинная строка с фамилиями, отчествами и именами потенциальных богатырей.\n",
        "\n",
        "Ваша задача - <font color=\"#8000FF\">используя цикл for</font> получить список имён из неё, после чего вывести все **уникальные** имена."
      ],
      "metadata": {
        "id": "uFJ9mDlv1q9-"
      }
    },
    {
      "cell_type": "code",
      "execution_count": null,
      "metadata": {
        "id": "w8gXe9q-oElJ",
        "colab": {
          "base_uri": "https://localhost:8080/"
        },
        "outputId": "1a151cf9-7e2f-4af3-88b9-012275b52e31"
      },
      "outputs": [
        {
          "output_type": "stream",
          "name": "stdout",
          "text": [
            "Уникальные имена:  {'Доброслав', 'Тихомир', 'Яромир', 'Бронислав', 'Мстислав', 'Святослав', 'Драгомысл', 'Ярослав', 'Гранислав', 'Драгомир', 'Ярополк', 'Истислав', 'Пересвет', 'Жирослав', 'Бранимир', 'Владимир', 'Гостевид', 'Хотимир', 'Чеслав', 'Судислав', 'Ратибор', 'Мечислав', 'Горисвет', 'Томислав', 'Градислав', 'Веселин', 'Перемысл', 'Белослав', 'Вышеслав', 'Васелин', 'Властимир', 'Добромир', 'Вячеслав'}\n"
          ]
        }
      ],
      "source": [
        "slavic_names = '''\n",
        "Ратибор Васелинович Чеславов\n",
        "Веселин Истиславович Гремиславовский\n",
        "Хотимир Владимирович Жирославовский\n",
        "Бронислав Властимирович Бранимировский\n",
        "Васелин Граниславович Богданов\n",
        "Истислав Мутимирович Станиславов\n",
        "Вячеслав Велиградович Белославов\n",
        "Ярополк Хотимирович Станиславовский\n",
        "Тихомир Судиславович Васелинов\n",
        "Гранислав Истиславович Жирославов\n",
        "Белослав Мечиславович Мирославовский\n",
        "Властимир Богданович Гремиславов\n",
        "Гостевид Пересветович Мстиславов\n",
        "Бранимир Горисветович Велимиров\n",
        "Веселин Ратиборович Станиславов\n",
        "Вячеслав Истиславович Драгомыслов\n",
        "Васелин Велимирович Венцеславов\n",
        "Добромир Богославович Судиславов\n",
        "Тихомир Святославович Васелинов\n",
        "Вышеслав Граниславович Доброславов\n",
        "Драгомысл Ярославович Вышеславов\n",
        "Мечислав Гостевидович Станиславовский\n",
        "Градислав Веселинович Драгомыслов\n",
        "Доброслав Велимирович Святополков\n",
        "Пересвет Хотимирович Тихомиров\n",
        "Святослав Тихомирович Граниславов\n",
        "Жирослав Гремиславович Богославов\n",
        "Гранислав Перемыслович Васелинов\n",
        "Гостевид Хотимирович Ратиборов\n",
        "Гостевид Мутимирович Томиславов\n",
        "Тихомир Владимирович Веселинов\n",
        "Мстислав Хотимирович Истиславовский\n",
        "Чеслав Святополкович Веселинов\n",
        "Владимир Истиславович Властимиров\n",
        "Добромир Святополкович Доброжиров\n",
        "Томислав Истиславович Судиславовский\n",
        "Веселин Хотимирович Мстиславов\n",
        "Владимир Яромирович Судиславов\n",
        "Добромир Судиславович Жирославов\n",
        "Вышеслав Милорадович Белославовский\n",
        "Судислав Властимирович Бранимиров\n",
        "Перемысл Жирославович Бранимиров\n",
        "Драгомир Добромирович Мирославов\n",
        "Вячеслав Доброславович Судиславов\n",
        "Хотимир Перемыслович Богославов\n",
        "Веселин Мстиславович Ясномыслов\n",
        "Яромир Велиградович Истиславов\n",
        "Яромир Граниславович Веселиновский\n",
        "Ярослав Жирославович Святополков\n",
        "Горисвет Ярополкович Станиславовский\n",
        "'''\n",
        "first_names =[]\n",
        "for name in slavic_names.split()[::3]:\n",
        "  first_names.append(name)\n",
        "\n",
        "print('Уникальные имена: ', set(first_names))\n",
        "\n"
      ]
    },
    {
      "cell_type": "code",
      "source": [],
      "metadata": {
        "colab": {
          "base_uri": "https://localhost:8080/"
        },
        "id": "9ClE7jokxK8Z",
        "outputId": "699da3a5-4d55-46ba-b1f3-e78b1c9c271b"
      },
      "execution_count": null,
      "outputs": [
        {
          "output_type": "stream",
          "name": "stdout",
          "text": [
            "[1, 4, 7, 10]\n"
          ]
        }
      ]
    },
    {
      "cell_type": "markdown",
      "source": [
        "## 14. Не перевелись ещё богатыри на Руси! - часть 2.\n",
        "\n",
        "Вам дана очень длинная строка с фамилиями, отчествами и именами потенциальных богатырей.\n",
        "\n",
        "Ваша задача - <font color=\"#8000FF\">при помощи list comprehensions</font> получить список имён из неё, после чего вывести все **уникальные** имена."
      ],
      "metadata": {
        "id": "fBDeNsjooWXD"
      }
    },
    {
      "cell_type": "code",
      "source": [
        "unique_names = [name for name in set(slavic_names.split()[::3])]\n",
        "\n",
        "print('Уникальные имена: ', unique_names)\n"
      ],
      "metadata": {
        "id": "55SRUaKLrdyR",
        "colab": {
          "base_uri": "https://localhost:8080/"
        },
        "outputId": "1267201e-82f3-43a8-fb92-8fb92fcfdcd2"
      },
      "execution_count": null,
      "outputs": [
        {
          "output_type": "stream",
          "name": "stdout",
          "text": [
            "Уникальные имена:  ['Доброслав', 'Тихомир', 'Яромир', 'Бронислав', 'Мстислав', 'Святослав', 'Драгомысл', 'Ярослав', 'Гранислав', 'Драгомир', 'Ярополк', 'Истислав', 'Пересвет', 'Жирослав', 'Бранимир', 'Владимир', 'Гостевид', 'Хотимир', 'Чеслав', 'Судислав', 'Ратибор', 'Мечислав', 'Горисвет', 'Томислав', 'Градислав', 'Веселин', 'Перемысл', 'Белослав', 'Вышеслав', 'Васелин', 'Властимир', 'Добромир', 'Вячеслав']\n"
          ]
        }
      ]
    },
    {
      "cell_type": "markdown",
      "source": [
        "## 15. Генератор богатырских имён.\n",
        "\n",
        "\n",
        "Современные родители любят имена с духом старины. Проанализируйте список имён (именно имён, а не отчеств/фамилий) из задачи 13. Выделите (чисто визуально) 6 возможных начал имён и 6 возможных концов имён (например, Яро - начало, Полк - конец, а вместе имя - Ярополк) и напишите функцию `generate_random_old_slavic_name`, которая при помощи random.choice выдаёт случайное имя.\n",
        "\n",
        "При помощи цикла вызовите функцию 10 раз и выведите, что получилось."
      ],
      "metadata": {
        "id": "QLVpQyJnK5Bc"
      }
    },
    {
      "cell_type": "code",
      "source": [
        "def generate_random_old_slavic_name():\n",
        "    potential_beginnings = ['Яро', 'Влади', 'Пере', 'Добро', 'Драго', 'Свято']\n",
        "    potential_endings =['слав', 'мир', 'полк', 'бор', 'лин', 'мысл']\n",
        "    random_name = random.choice(potential_beginnings) + random.choice(potential_endings)\n",
        "    return random_name\n",
        "\n",
        "for n in range(10):\n",
        "  print(generate_random_old_slavic_name())"
      ],
      "metadata": {
        "id": "0burcuqjMQ30",
        "colab": {
          "base_uri": "https://localhost:8080/"
        },
        "outputId": "802f2dee-587f-4351-ae1b-91a34e9e4fd0"
      },
      "execution_count": null,
      "outputs": [
        {
          "output_type": "stream",
          "name": "stdout",
          "text": [
            "Святомысл\n",
            "Святомир\n",
            "Владислав\n",
            "Яромир\n",
            "Переполк\n",
            "Ярослав\n",
            "Владибор\n",
            "Переполк\n",
            "Перемысл\n",
            "Добромир\n"
          ]
        }
      ]
    },
    {
      "cell_type": "markdown",
      "source": [
        "## 16. Один день, еще один, да один день - часть 1.\n",
        "\n",
        "Перед вами список некоторых князей Киевских и годы их правления.\n",
        "\n",
        "Ваша задача - <font color=\"#8000FF\">при помощи лямбда-функции и функции sort</font> отсортировать их в порядке возрастания количества лет, которых они провели на престоле."
      ],
      "metadata": {
        "id": "Td8QhrRJ_wdO"
      }
    },
    {
      "cell_type": "code",
      "source": [
        "rulers = [{\"name\": \"Олег Вещий\", \"year_start\": 882, \"year_end\": 912},\n",
        "          {\"name\": \"Игорь Рюрикович\", \"year_start\": 912, \"year_end\": 945},\n",
        "          {\"name\": \"Ольга\", \"year_start\": 945, \"year_end\": 960},\n",
        "          {\"name\": \"Святослав Игоревич\", \"year_start\": 945, \"year_end\": 972},\n",
        "          {\"name\": \"Ярополк Святославич\", \"year_start\": 972, \"year_end\": 978},\n",
        "          {\"name\": \"Владимир Святославич\", \"year_start\": 978, \"year_end\": 1015}]"
      ],
      "metadata": {
        "id": "oxgCN37HJEHk"
      },
      "execution_count": null,
      "outputs": []
    },
    {
      "cell_type": "code",
      "source": [
        "rulers.sort(key=lambda x: x[\"year_end\"] - x[\"year_start\"] + 1)\n",
        "sorted_rulers = []\n",
        "\n",
        "sorted_rulers = [{'name': ruler_info['name'], 'Time of the throne': ruler_info[\"year_end\"] - ruler_info[\"year_start\"] + 1} for  ruler_info in rulers]\n",
        "\n",
        "print(sorted_rulers)"
      ],
      "metadata": {
        "id": "WpbJzN82KUki",
        "colab": {
          "base_uri": "https://localhost:8080/"
        },
        "outputId": "394a1fb6-f55d-4c0e-bcd7-8104a351a1fa"
      },
      "execution_count": null,
      "outputs": [
        {
          "output_type": "stream",
          "name": "stdout",
          "text": [
            "[{'name': 'Ярополк Святославич', 'Time of the throne': 7}, {'name': 'Ольга', 'Time of the throne': 16}, {'name': 'Святослав Игоревич', 'Time of the throne': 28}, {'name': 'Олег Вещий', 'Time of the throne': 31}, {'name': 'Игорь Рюрикович', 'Time of the throne': 34}, {'name': 'Владимир Святославич', 'Time of the throne': 38}]\n"
          ]
        }
      ]
    },
    {
      "cell_type": "markdown",
      "source": [
        "## 17. Один день, ещё один, да один день - часть 2.\n",
        "\n",
        "Перед вами список некоторых князей Киевских и годы их правления.\n",
        "\n",
        "Ваша задача - <font color=\"#8000FF\">при помощи лямбда-функции и функции filter</font> выбрать из них тех, кто правил дольше 17 лет или является Ольгой."
      ],
      "metadata": {
        "id": "VP2Nn03BKWOo"
      }
    },
    {
      "cell_type": "code",
      "source": [
        "filtered_rulers = [ruler_info for ruler_info in sorted_rulers if ruler_info['Time of the throne'] > 17 or ruler_info['name'] == 'Ольга']\n",
        "\n",
        "print(filtered_rulers)"
      ],
      "metadata": {
        "id": "hNkpXtt1KkDE",
        "colab": {
          "base_uri": "https://localhost:8080/"
        },
        "outputId": "2d8d8aa5-46f1-42ce-9c2a-f9c89975f87c"
      },
      "execution_count": null,
      "outputs": [
        {
          "output_type": "stream",
          "name": "stdout",
          "text": [
            "[{'name': 'Ольга', 'Time of the throne': 16}, {'name': 'Святослав Игоревич', 'Time of the throne': 28}, {'name': 'Олег Вещий', 'Time of the throne': 31}, {'name': 'Игорь Рюрикович', 'Time of the throne': 34}, {'name': 'Владимир Святославич', 'Time of the throne': 38}]\n"
          ]
        }
      ]
    },
    {
      "cell_type": "markdown",
      "source": [
        "## 18. Кому на Руси жить хорошо - часть 1.\n",
        "\n",
        "*В Древней Руси больше всего боялись тех, кто отсидел, потому что тогда сажали на кол.*\n",
        "\n",
        "Перед вами два словаря - словарь `paid_money` - количество золота, сколько этот боярин заплатил в казну и словарь `real_money` - количество золота, которое реально заработал боярин.\n",
        "\n",
        "<font color=\"#8000FF\">При помощи цикла for</font> выведи список имён бояр, которые заплатили менее десятой части от своих настоящих доходов - это те бояре, которых в следующем месяце придётся посадить на кол."
      ],
      "metadata": {
        "id": "uQmzqitT9zCx"
      }
    },
    {
      "cell_type": "code",
      "source": [
        "paid_money = {\"Козьма Григорьевич\": 70,\n",
        "              \"Аврам Стефанович\": 101,\n",
        "              \"Захарий Григорьевич\": 15,\n",
        "              \"Онцифор Лукинич\": 208}\n",
        "\n",
        "real_money = {\"Козьма Григорьевич\": 1000,\n",
        "              \"Аврам Стефанович\": 900,\n",
        "              \"Захарий Григорьевич\": 400,\n",
        "              \"Онцифор Лукинич\": 2000}"
      ],
      "metadata": {
        "id": "x_QHMKex-DM-"
      },
      "execution_count": null,
      "outputs": []
    },
    {
      "cell_type": "code",
      "source": [
        "no_tax_people = []\n",
        "\n",
        "for key in paid_money.keys():\n",
        "  if paid_money[key] / real_money[key] < 0.1:\n",
        "    no_tax_people.append(key)\n",
        "\n",
        "print(no_tax_people)"
      ],
      "metadata": {
        "id": "_rXLJj8M-BlC",
        "colab": {
          "base_uri": "https://localhost:8080/"
        },
        "outputId": "fd06c1f9-d370-4ee4-af09-835ec612926f"
      },
      "execution_count": null,
      "outputs": [
        {
          "output_type": "stream",
          "name": "stdout",
          "text": [
            "['Козьма Григорьевич', 'Захарий Григорьевич']\n"
          ]
        }
      ]
    },
    {
      "cell_type": "markdown",
      "source": [
        "## 19. Кому на Руси жить хорошо - часть 2.\n",
        "\n",
        "\n",
        "Перед вами два словаря - словарь `paid_money` - количество золота, сколько этот боярин заплатил в казну и словарь `real_money` - количество золота, которое реально заработал боярин.\n",
        "\n",
        "<font color=\"#8000FF\">При помощи list comprehension и условия</font> выведи список имён бояр, которые заплатили менее десятой части от своих настоящих доходов - это те бояре, которых в следующем месяце придётся посадить на кол."
      ],
      "metadata": {
        "id": "TAhHkr-mTY9d"
      }
    },
    {
      "cell_type": "code",
      "source": [
        "no_tax_people_2 = [key for key in paid_money.keys() if paid_money[key] / real_money[key] < 0.1]\n",
        "\n",
        "print(no_tax_people_2)"
      ],
      "metadata": {
        "id": "ORqNSSsGl12r",
        "colab": {
          "base_uri": "https://localhost:8080/"
        },
        "outputId": "4349d290-0060-4659-b7d2-549dea73d9d9"
      },
      "execution_count": null,
      "outputs": [
        {
          "output_type": "stream",
          "name": "stdout",
          "text": [
            "['Козьма Григорьевич', 'Захарий Григорьевич']\n"
          ]
        }
      ]
    },
    {
      "cell_type": "markdown",
      "source": [
        "## 20. Здесь русский дух, здесь Русью пахнет... (2 балла)\n",
        "\n",
        "Вы задались задачей сделать самые русские духи. Для этого вы собрали несколько пробных ароматов из разных нот (ноты между ароматами могут повторяться) и провели опрос среди прохожих, спрашивая, насколько Русью пахнет данный аромат по шкале от 1 до 5 включительно.\n",
        "\n",
        "Перед вами часть ароматов и часть голосов - ваша задача:\n",
        "\n",
        "1. На основе ароматов определить множество **уникальных** нот в ароматах\n",
        "2. Определить среднее значение голосов за каждую **ноту**\n",
        "3. Вывести топ-3 ноты по среднему значению голосов - это и будут наши самые русские духи."
      ],
      "metadata": {
        "id": "_HJtKjsu2ABU"
      }
    },
    {
      "cell_type": "code",
      "source": [
        "fragrances = [{\"id\": 15, \"name\": \"Русалка\", \"notes\": \"кувшинки, вода, мох, мускус\"},\n",
        "              {\"id\": 16, \"name\": \"Жар-птица\", \"notes\": \"молоко, сандал, слива, перец\"},\n",
        "              {\"id\": 17, \"name\": \"Река-Смородина\", \"notes\": \"смородина, вода, молоко, мед\"},\n",
        "              {\"id\": 18, \"name\": \"Царевна-Лягушка\", \"notes\": \"можжевельник, вода, древесина, перец, кувшинки\"},\n",
        "              {\"id\": 19, \"name\": \"Василиса-Премудрая\", \"notes\": \"мед, яблоко, ветивер, мускус\"}]\n",
        "\n",
        "votes = [{'id': 2353, 'fragrance_id': 19, 'vote_res': 2}, {'id': 2354, 'fragrance_id': 15, 'vote_res': 2}, {'id': 2355, 'fragrance_id': 18, 'vote_res': 1}, {'id': 2356, 'fragrance_id': 19, 'vote_res': 4}, {'id': 2357, 'fragrance_id': 16, 'vote_res': 4}, {'id': 2358, 'fragrance_id': 16, 'vote_res': 1}, {'id': 2359, 'fragrance_id': 18, 'vote_res': 1}, {'id': 2360, 'fragrance_id': 15, 'vote_res': 5}, {'id': 2361, 'fragrance_id': 18, 'vote_res': 5}, {'id': 2362, 'fragrance_id': 16, 'vote_res': 4}, {'id': 2363, 'fragrance_id': 19, 'vote_res': 2}, {'id': 2364, 'fragrance_id': 17, 'vote_res': 1}, {'id': 2365, 'fragrance_id': 15, 'vote_res': 1}, {'id': 2366, 'fragrance_id': 18, 'vote_res': 5}, {'id': 2367, 'fragrance_id': 19, 'vote_res': 3}, {'id': 2368, 'fragrance_id': 17, 'vote_res': 1}, {'id': 2369, 'fragrance_id': 18, 'vote_res': 1}, {'id': 2370, 'fragrance_id': 18, 'vote_res': 3}, {'id': 2371, 'fragrance_id': 15, 'vote_res': 2}, {'id': 2372, 'fragrance_id': 17, 'vote_res': 2}, {'id': 2373, 'fragrance_id': 16, 'vote_res': 2}, {'id': 2374, 'fragrance_id': 18, 'vote_res': 3}, {'id': 2375, 'fragrance_id': 19, 'vote_res': 1}, {'id': 2376, 'fragrance_id': 16, 'vote_res': 1}, {'id': 2377, 'fragrance_id': 16, 'vote_res': 2}, {'id': 2378, 'fragrance_id': 16, 'vote_res': 3}, {'id': 2379, 'fragrance_id': 18, 'vote_res': 2}, {'id': 2380, 'fragrance_id': 18, 'vote_res': 5}, {'id': 2381, 'fragrance_id': 15, 'vote_res': 3}, {'id': 2382, 'fragrance_id': 19, 'vote_res': 5}, {'id': 2383, 'fragrance_id': 17, 'vote_res': 4}, {'id': 2384, 'fragrance_id': 18, 'vote_res': 5}, {'id': 2385, 'fragrance_id': 19, 'vote_res': 3}, {'id': 2386, 'fragrance_id': 17, 'vote_res': 3}, {'id': 2387, 'fragrance_id': 17, 'vote_res': 5}, {'id': 2388, 'fragrance_id': 18, 'vote_res': 1}, {'id': 2389, 'fragrance_id': 19, 'vote_res': 1}, {'id': 2390, 'fragrance_id': 15, 'vote_res': 1}, {'id': 2391, 'fragrance_id': 19, 'vote_res': 5}, {'id': 2392, 'fragrance_id': 15, 'vote_res': 2}, {'id': 2393, 'fragrance_id': 15, 'vote_res': 3}, {'id': 2394, 'fragrance_id': 17, 'vote_res': 5}, {'id': 2395, 'fragrance_id': 15, 'vote_res': 5}, {'id': 2396, 'fragrance_id': 17, 'vote_res': 2}, {'id': 2397, 'fragrance_id': 15, 'vote_res': 5}, {'id': 2398, 'fragrance_id': 17, 'vote_res': 5}, {'id': 2399, 'fragrance_id': 18, 'vote_res': 4}, {'id': 2400, 'fragrance_id': 16, 'vote_res': 1}, {'id': 2401, 'fragrance_id': 17, 'vote_res': 5}, {'id': 2402, 'fragrance_id': 16, 'vote_res': 3}]"
      ],
      "metadata": {
        "id": "zvkU2KEy2WH8"
      },
      "execution_count": null,
      "outputs": []
    },
    {
      "cell_type": "code",
      "source": [
        "notes_list = []\n",
        "\n",
        "for  fragrance in fragrances:\n",
        "  notes_list += fragrance['notes'].split(', ')\n",
        "\n",
        "unique_notes = set(notes_list)\n",
        "\n",
        "notes_and_id = []\n",
        "\n",
        "for note in unique_notes:\n",
        "  list_for_note = []\n",
        "  for fragrance_info in fragrances:\n",
        "    if note in fragrance_info['notes']:\n",
        "      list_for_note.append(fragrance_info['id'])\n",
        "  notes_and_id.append({'note': note, 'ids': list_for_note})\n",
        "\n",
        "average_res_for_note = []\n",
        "\n",
        "for note in notes_and_id:\n",
        "  res_votes_for_notes = [vote['vote_res'] for vote in votes if vote['fragrance_id'] in note['ids']]\n",
        "  average_res = sum(res_votes_for_notes) / len(res_votes_for_notes)\n",
        "  average_res_for_note.append({'note': note['note'], 'average result': average_res})\n",
        "\n",
        "sorted_average_res_for_notes = sorted(average_res_for_note, key=lambda x: x['average result'], reverse=True)\n",
        "\n",
        "top_3_list = [note_info['note'] for  note_info in sorted_average_res_for_notes][0:3]\n",
        "\n",
        "print(top_3_list)"
      ],
      "metadata": {
        "id": "vG9JTNLM4eSE",
        "colab": {
          "base_uri": "https://localhost:8080/"
        },
        "outputId": "6cd54396-27f8-42f6-f95a-aad3e71da71f"
      },
      "execution_count": null,
      "outputs": [
        {
          "output_type": "stream",
          "name": "stdout",
          "text": [
            "['смородина', 'мед', 'вода']\n"
          ]
        }
      ]
    }
  ]
}