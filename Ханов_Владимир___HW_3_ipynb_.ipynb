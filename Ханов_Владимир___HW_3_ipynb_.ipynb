{
  "nbformat": 4,
  "nbformat_minor": 0,
  "metadata": {
    "colab": {
      "provenance": []
    },
    "kernelspec": {
      "name": "python3",
      "display_name": "Python 3"
    },
    "language_info": {
      "name": "python"
    }
  },
  "cells": [
    {
      "cell_type": "code",
      "execution_count": null,
      "metadata": {
        "id": "MkaTOJ-8ISm_"
      },
      "outputs": [],
      "source": [
        "class Substance():\n",
        "  pass\n",
        "\n",
        "class Catalyst():\n",
        "  def __init__(self, name: str):\n",
        "    self.name = name\n",
        "\n",
        "class Water_Vapor():\n",
        "  def __init__(self, temperature: float, pressure: float, perentage_of_impurity: float):\n",
        "    self.temperature = temperature\n",
        "    self.pressure = pressure\n",
        "    self.percentage_of_impurity = percentage_of_impurity\n",
        "\n",
        "class Oxygen_from_the_air():\n",
        "  def __init__(self, percentage_of_oxygen: float):\n",
        "    self.percentage_of_oxygen = percentage_of_oxygen\n",
        "\n",
        "class Filter():\n",
        "  def __init__(self, firm: str, model: str, contamination: str):\n",
        "    self.firm = firm\n",
        "    self.model = model\n",
        "    self.contamination = contamination\n",
        "\n",
        "class Ammonia(Substance):\n",
        "  def __init__(self):\n",
        "    super().__init__()\n",
        "    self.catalyst_production = None\n",
        "    self.catalyst_oxidation = None\n",
        "    self.water_vapor = None\n",
        "    self.oxygen = None\n",
        "    self.filter = None\n",
        "\n",
        "  def production(self, catalyst_production: Catalyst, water_vapor: Water_Vapor):\n",
        "    self.catalyst_production = catalyst_production\n",
        "    self.water_vapor = water_vapor\n",
        "    # TODO: implement this function!!!\n",
        "\n",
        "  def oxidation(self, catalyst_oxidation: Catalyst, oxygen: Oxygen_from_the_air):\n",
        "    self.catalyst_oxidation = catalyst_oxidation\n",
        "    self.oxygen = oxygen\n",
        "    # TODO: implement this function!!!\n",
        "\n",
        "  def filtration(self, filter: Filter):\n",
        "    self.filter = filter\n",
        "    # TODO: implement this function!!!\n",
        "\n",
        "  def concentration(self):\n",
        "    # TODO: implement this function!!!\n"
      ]
    }
  ]
}